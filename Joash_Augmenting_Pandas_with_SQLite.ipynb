{
  "nbformat": 4,
  "nbformat_minor": 0,
  "metadata": {
    "colab": {
      "provenance": [],
      "collapsed_sections": [
        "qadTA4HuceEl",
        "NOEk3_YPdg6p",
        "OA2D7o4sds1t",
        "Rt1jPEhseD8r"
      ]
    },
    "kernelspec": {
      "name": "python3",
      "display_name": "Python 3"
    },
    "language_info": {
      "name": "python"
    }
  },
  "cells": [
    {
      "cell_type": "markdown",
      "metadata": {
        "id": "2ZK7M8-wZ_J8"
      },
      "source": [
        "# Project Notebook: Augmenting Pandas with SQLite"
      ]
    },
    {
      "cell_type": "markdown",
      "metadata": {
        "id": "qadTA4HuceEl"
      },
      "source": [
        "## Question 1: Introduction"
      ]
    },
    {
      "cell_type": "markdown",
      "metadata": {
        "id": "aF9k8rixclSR"
      },
      "source": [
        "In this session, we explored a few different ways to work with larger datasets in pandas. In this guided project, we'll practice using some of the techniques we learned to analyze startup investments from Crunchbase.com.\n",
        "\n",
        "Every year, thousands of startup companies raise financing from investors. Each time a startup raises money, we refer to the event as a fundraising round. Crunchbase is a website that crowdsources information on the fundraising rounds of many startups. The Crunchbase user community submits, edits, and maintains most of the information in Crunchbase.\n",
        "\n",
        "In return, Crunchbase makes the data available through a Web application and a fee-based API. Before Crunchbase switched to the paid API model, multiple groups crawled the site and released the data online. Because the information on the startups and their fundraising rounds is always changing, the data set we'll be using isn't completely up to date.\n",
        "\n",
        "Throughout this project, we'll practice working with different memory constraints. In this step, let's assume we only have 10 megabytes of available memory. While crunchbase-investments.csv (https://bit.ly/3BPcobU) consumes 10.3 megabytes of disk space, we know from earlier lessons that pandas often requires 4 to 6 times amount of space in memory as the file does on disk (especially when there's many string columns).\n",
        "\n",
        "\n",
        "**Tasks**\n",
        "\n",
        "* Because the data set contains over 50,000 rows, you'll need to read the data set into dataframes using 5,000 row chunks to ensure that each chunk consumes much less than 10 megabytes of memory.\n",
        "* Across all of the chunks, become familiar with:\n",
        "1. Each column's missing value counts.\n",
        "2. Each column's memory footprint.\n",
        "3. The total memory footprint of all of the chunks combined.\n",
        "4. Which column(s) we can drop because they aren't useful for analysis.\n",
        "\n"
      ]
    },
    {
      "cell_type": "code",
      "metadata": {
        "id": "tOYoNl5qe1ow"
      },
      "source": [
        "# Your code goes here\n",
        "# Dataset URL = https://bit.ly/3BPcobU\n",
        "#\n",
        "import pandas as pd\n",
        "for crunchbase in  pd.read_csv(\"crunchbase-investments.csv\", encoding='latin1', chunksize = 5000):\n",
        "  print(crunchbase.head(5))\n",
        "\n"
      ],
      "execution_count": null,
      "outputs": []
    },
    {
      "cell_type": "code",
      "source": [
        "crunchbase.memory_usage(deep = True)\n"
      ],
      "metadata": {
        "id": "2GH7PI57sXBq"
      },
      "execution_count": null,
      "outputs": []
    },
    {
      "cell_type": "markdown",
      "source": [
        "The total memory footprint of all of the chunks combined."
      ],
      "metadata": {
        "id": "RI1EwL2JtAJT"
      }
    },
    {
      "cell_type": "code",
      "source": [
        "\n",
        "memory_footprints = []\n",
        "crunchbase_iter = pd.read_csv(\"crunchbase-investments.csv\", encoding='latin1', chunksize = 5000)\n",
        "for chunk in crunchbase_iter:\n",
        "    memory_footprints.append(crunchbase.memory_usage(deep=True).sum()/(1024*1024))\n",
        "print(sum(memory_footprints))\n",
        " "
      ],
      "metadata": {
        "colab": {
          "base_uri": "https://localhost:8080/"
        },
        "id": "w6FwaqgxtL2g",
        "outputId": "97a8c073-2d6e-4a12-ce35-4437a7a1622a"
      },
      "execution_count": 4,
      "outputs": [
        {
          "output_type": "stream",
          "name": "stdout",
          "text": [
            "29.30085849761963\n"
          ]
        }
      ]
    },
    {
      "cell_type": "markdown",
      "source": [
        "Which column(s) we can drop because they aren't useful for analysis."
      ],
      "metadata": {
        "id": "NVZq_2px2lAm"
      }
    },
    {
      "cell_type": "code",
      "source": [
        "crunchbase = pd.read_csv(\"crunchbase-investments.csv\", encoding='latin1')\n",
        "crunchbase.drop(['investor_country_code', 'investor_state_code','investor_category_code', 'company_city','raised_amount_usd','investor_city','company_state_code','company_category_code',], axis = 1)"
      ],
      "metadata": {
        "id": "GEBYjMWd2oDg"
      },
      "execution_count": null,
      "outputs": []
    },
    {
      "cell_type": "markdown",
      "source": [
        "Each column's missing value counts."
      ],
      "metadata": {
        "id": "HhY0Y-E_weEz"
      }
    },
    {
      "cell_type": "code",
      "source": [
        "print( crunchbase.isnull().sum())"
      ],
      "metadata": {
        "id": "ZQVwahecwjhn"
      },
      "execution_count": null,
      "outputs": []
    },
    {
      "cell_type": "markdown",
      "metadata": {
        "id": "NOEk3_YPdg6p"
      },
      "source": [
        "## Question 2: Selecting Data Types"
      ]
    },
    {
      "cell_type": "markdown",
      "metadata": {
        "id": "FD1IqmzhcEd3"
      },
      "source": [
        "Now that we have a good sense of the missing values, let's get familiar with the column types before adding the data into SQLite.\n",
        "\n",
        "**Tasks**\n",
        "\n",
        "* Identify the types for each column.\n",
        "* Identify the numeric columns we can represent using more space efficient types.\n",
        "For text columns:\n",
        "* Analyze the unique value counts across all of the chunks to see if we can convert them to a numeric type.\n",
        "* See if we clean clean any text columns and separate them into multiple numeric columns without adding any overhead when querying.\n",
        "* Make your changes to the code from the last step so that the overall memory the data consumes stays under 10 megabytes.\n"
      ]
    },
    {
      "cell_type": "code",
      "metadata": {
        "id": "QNgzuiStZ3WN"
      },
      "source": [
        "# Your code goes here"
      ],
      "execution_count": 45,
      "outputs": []
    },
    {
      "cell_type": "markdown",
      "source": [
        "Identify the types for each column"
      ],
      "metadata": {
        "id": "Eq7K8Z9w41KK"
      }
    },
    {
      "cell_type": "code",
      "source": [
        "print(crunchbase.info())"
      ],
      "metadata": {
        "id": "XQq7IbZPJWVQ"
      },
      "execution_count": null,
      "outputs": []
    },
    {
      "cell_type": "markdown",
      "source": [
        "Identify the numeric columns we can represent using more space efficient types. For text columns:"
      ],
      "metadata": {
        "id": "nhvnXMNm_I5K"
      }
    },
    {
      "cell_type": "code",
      "source": [
        "numeric= ['int16', 'int32', 'int64', 'float16', 'float32', 'float64']\n",
        "\n",
        "numeric_cols = crunchbase.select_dtypes(include=numeric).columns\n",
        "numeric_cols\n",
        "# Write you code below\n"
      ],
      "metadata": {
        "colab": {
          "base_uri": "https://localhost:8080/"
        },
        "id": "RV2QSqfx7DYi",
        "outputId": "60ebe937-93e7-4100-9aa8-f17f5fcd5826"
      },
      "execution_count": 23,
      "outputs": [
        {
          "output_type": "execute_result",
          "data": {
            "text/plain": [
              "Index(['funded_year', 'raised_amount_usd'], dtype='object')"
            ]
          },
          "metadata": {},
          "execution_count": 23
        }
      ]
    },
    {
      "cell_type": "markdown",
      "source": [
        "Analyze the unique value counts across all of the chunks to see if we can convert them to a numeric type."
      ],
      "metadata": {
        "id": "3X0YAY7Q_Qd-"
      }
    },
    {
      "cell_type": "code",
      "source": [
        "crunchbase_iter = pd.read_csv(\"crunchbase-investments.csv\", encoding='latin1', chunksize = 5000)\n",
        "for crunchbase in crunchbase_iter:\n",
        "    chunk_vc = crunchbase.value_counts()\n",
        "    print(chunk_vc)\n"
      ],
      "metadata": {
        "colab": {
          "base_uri": "https://localhost:8080/"
        },
        "id": "DTfexR6e_UNn",
        "outputId": "f75692f1-c769-4fd1-a6b3-36dcd0ce76a7"
      },
      "execution_count": 10,
      "outputs": [
        {
          "output_type": "stream",
          "name": "stdout",
          "text": [
            "company_permalink                           company_name                       company_category_code  company_country_code  company_state_code  company_region  company_city   investor_permalink                 investor_name             investor_category_code  investor_country_code  investor_state_code  investor_region  investor_city  funding_round_type  funded_at   funded_month  funded_quarter  funded_year  raised_amount_usd\n",
            "/company/massachusetts-clean-energy-center  Massachusetts Clean Energy Center  cleantech              USA                   MA                  Boston          Boston         /company/north-shore-innoventures  North Shore InnoVentures  biotech                 USA                    MA                   Boston           Beverly        angel               2013-09-05  2013-09       2013-Q3         2013         300000.0             2\n",
            "/company/1000memories                       1000memories                       web                    USA                   CA                  SF Bay          San Francisco  /company/y-combinator              Y Combinator              finance                 USA                    CA                   SF Bay           Mountain View  angel               2010-01-01  2010-01       2010-Q1         2010         15000.0              1\n",
            "/company/posterous                          Posterous                          web                    USA                   CA                  SF Bay          San Francisco  /company/y-combinator              Y Combinator              finance                 USA                    CA                   SF Bay           Mountain View  angel               2008-05-01  2008-05       2008-Q2         2008         15000.0              1\n",
            "/company/priceonomics                       Priceonomics                       web                    USA                   CA                  SF Bay          San Francisco  /company/y-combinator              Y Combinator              finance                 USA                    CA                   SF Bay           Mountain View  angel               2011-12-01  2011-12       2011-Q4         2011         20000.0              1\n",
            "/company/pressgram                          Pressgram                          photo_video            USA                   GA                  Atlanta         Atlanta        /company/kickstarter               Kickstarter               finance                 USA                    NY                   New York         New York       crowdfunding        2013-04-15  2013-04       2013-Q2         2013         56500.0              1\n",
            "                                                                                                                                                                                                                                                                                                                                                                                                                                               ..\n",
            "/company/flashstarts                        FlashStarts                        software               USA                   OH                  Cleveland       Cleveland      /company/flashstarts               FlashStarts               software                USA                    OH                   Cleveland        Cleveland      angel               2013-06-01  2013-06       2013-Q2         2013         14000.0              1\n",
            "/company/fivestars                          FiveStars Loyalty                  advertising            USA                   CA                  SF Bay          San Francisco  /company/y-combinator              Y Combinator              finance                 USA                    CA                   SF Bay           Mountain View  angel               2011-01-01  2011-01       2011-Q1         2011         150000.0             1\n",
            "/company/fitnesskeeper                      FitnessKeeper                      health                 USA                   MA                  Boston          Boston         /company/revolution                Revolution LLC            other                   USA                    DC                   Washington DC    Washington     series-b            2011-11-21  2011-11       2011-Q4         2011         10000000.0           1\n",
            "/company/fisker                             Fisker Automotive                  automotive             USA                   CA                  Los Angeles     Irvine         /company/a123systems               A123 Systems              nanotech                USA                    MA                   Boston           Watertown      venture             2011-02-22  2011-02       2011-Q1         2011         150000000.0          1\n",
            "/company/zynga                              Zynga                              games_video            USA                   CA                  SF Bay          San Francisco  /company/google                    Google                    search                  USA                    CA                   SF Bay           Mountain View  series-b            2010-06-14  2010-06       2010-Q2         2010         300000000.0          1\n",
            "Length: 1577, dtype: int64\n",
            "Series([], dtype: int64)\n",
            "Series([], dtype: int64)\n",
            "Series([], dtype: int64)\n",
            "Series([], dtype: int64)\n",
            "Series([], dtype: int64)\n",
            "Series([], dtype: int64)\n",
            "Series([], dtype: int64)\n",
            "Series([], dtype: int64)\n",
            "Series([], dtype: int64)\n",
            "Series([], dtype: int64)\n"
          ]
        }
      ]
    },
    {
      "cell_type": "markdown",
      "source": [
        "See if we clean clean any text columns and separate them into multiple numeric columns without adding any overhead when querying."
      ],
      "metadata": {
        "id": "I-_S-ndLKdnk"
      }
    },
    {
      "cell_type": "markdown",
      "metadata": {
        "id": "OA2D7o4sds1t"
      },
      "source": [
        "## Question 3: Loading Chunks Into SQLite"
      ]
    },
    {
      "cell_type": "markdown",
      "metadata": {
        "id": "ptu8Xr25dvcF"
      },
      "source": [
        "Now we're in good shape to start exploring and analyzing the data. The next step is to load each chunk into a table in a SQLite database so we can query the full data set.\n",
        "\n",
        "**Tasks**\n",
        "\n",
        "1. Create and connect to a new SQLite database file.\n",
        "2. Expand on the existing chunk processing code to export each chunk to a new table in the SQLite database.\n",
        "3. Query the table and make sure the data types match up to what you had in mind for each column."
      ]
    },
    {
      "cell_type": "code",
      "metadata": {
        "id": "QH-j6fuXdu0v",
        "colab": {
          "base_uri": "https://localhost:8080/"
        },
        "outputId": "12c1c678-7dc0-4d57-9b3b-c100f5f4753c"
      },
      "source": [
        "# Your code goes here\n",
        "import sqlite3\n",
        "import pandas as pd\n",
        "crunchbase_iter = pd.read_csv(\"crunchbase-investments.csv\", encoding='latin1', chunksize = 5000)\n",
        "conn = sqlite3.connect('crunchbase_iter')\n",
        "for chunk in crunchbase_iter:\n",
        "    chunk.to_sql(\"exhibitions\", conn, if_exists='append', index=False)\n",
        "    results_df = pd.read_sql('PRAGMA table_info(exhibitions);', conn)\n",
        "print(results_df)"
      ],
      "execution_count": 18,
      "outputs": [
        {
          "output_type": "stream",
          "name": "stdout",
          "text": [
            "    cid                    name     type  notnull dflt_value  pk\n",
            "0     0       company_permalink     TEXT        0       None   0\n",
            "1     1            company_name     TEXT        0       None   0\n",
            "2     2   company_category_code     TEXT        0       None   0\n",
            "3     3    company_country_code     TEXT        0       None   0\n",
            "4     4      company_state_code     TEXT        0       None   0\n",
            "5     5          company_region     TEXT        0       None   0\n",
            "6     6            company_city     TEXT        0       None   0\n",
            "7     7      investor_permalink     TEXT        0       None   0\n",
            "8     8           investor_name     TEXT        0       None   0\n",
            "9     9  investor_category_code     TEXT        0       None   0\n",
            "10   10   investor_country_code     TEXT        0       None   0\n",
            "11   11     investor_state_code     TEXT        0       None   0\n",
            "12   12         investor_region     TEXT        0       None   0\n",
            "13   13           investor_city     TEXT        0       None   0\n",
            "14   14      funding_round_type     TEXT        0       None   0\n",
            "15   15               funded_at     TEXT        0       None   0\n",
            "16   16            funded_month     TEXT        0       None   0\n",
            "17   17          funded_quarter     TEXT        0       None   0\n",
            "18   18             funded_year  INTEGER        0       None   0\n",
            "19   19       raised_amount_usd     REAL        0       None   0\n"
          ]
        }
      ]
    },
    {
      "cell_type": "markdown",
      "metadata": {
        "id": "Rt1jPEhseD8r"
      },
      "source": [
        "## Question 4: Next Steps"
      ]
    },
    {
      "cell_type": "markdown",
      "metadata": {
        "id": "Ggt-hEebeJGr"
      },
      "source": [
        "Now that the data is in SQLite, we can use the pandas SQLite workflow we learned in the last lesson to explore and analyze startup investments. Remember that each row isn't a unique company, but a unique investment from a single investor. This means that many startups will span multiple rows.\n",
        "\n",
        "Use the pandas SQLite workflow to answer the following questions:\n",
        "\n",
        "* What proportion of the total amount of funds did the top 10% raise? What about the top 1%? Compare these values to the proportions the bottom 10% and bottom 1% raised.\n",
        "* Which category of company attracted the most investments?\n",
        "* Which investor contributed the most money (across all startups)?\n",
        "* Which investors contributed the most money per startup?\n",
        "* Which funding round was the most popular? Which was the least popular?\n",
        "\n",
        "Here are some ideas for further exploration:\n",
        "\n",
        "* Repeat the tasks in this project using stricter memory constraints (under 1 megabyte).\n",
        "* Clean and analyze the other Crunchbase data sets from the same GitHub repo.\n",
        "* Understand which columns the data sets share, and how the data sets are linked.\n",
        "* Create a relational database design that links the data sets together and reduces the overall disk space the database file consumes.\n",
        "\n",
        "Use pandas to populate each table in the database, create the appropriate indexes, and so on."
      ]
    },
    {
      "cell_type": "markdown",
      "source": [
        "What proportion of the total amount of funds did the top 10% raise? What about the top 1%? Compare these values to the proportions the bottom 10% and bottom 1% raised."
      ],
      "metadata": {
        "id": "AMOkTu5YbbzS"
      }
    },
    {
      "cell_type": "code",
      "metadata": {
        "id": "FJo2f7N-ebgX",
        "colab": {
          "base_uri": "https://localhost:8080/"
        },
        "outputId": "ae36e968-5dcf-4210-ca57-36049c0010b8"
      },
      "source": [
        "# Your code goes here\n",
        "q = 'select raised_amount_usd, count(*) as counts from exhibitions group by raised_amount_usd  order by counts desc;'\n",
        "eid_counts = pd.read_sql(q, conn)\n",
        "print(eid_counts[:10])"
      ],
      "execution_count": 27,
      "outputs": [
        {
          "output_type": "stream",
          "name": "stdout",
          "text": [
            "   raised_amount_usd  counts\n",
            "0                NaN   10144\n",
            "1         10000000.0    6044\n",
            "2          1000000.0    5138\n",
            "3          5000000.0    4674\n",
            "4         15000000.0    4158\n",
            "5         20000000.0    3827\n",
            "6          2000000.0    3670\n",
            "7          1500000.0    3647\n",
            "8          3000000.0    3543\n",
            "9          6000000.0    3361\n"
          ]
        }
      ]
    },
    {
      "cell_type": "code",
      "source": [
        "q = 'select raised_amount_usd , count(*) as counts from exhibitions group by raised_amount_usd  order by counts asc;'\n",
        "eid_counts = pd.read_sql(q, conn)\n",
        "print(eid_counts[:10])"
      ],
      "metadata": {
        "colab": {
          "base_uri": "https://localhost:8080/"
        },
        "id": "dnCYFjtKbiQy",
        "outputId": "06561efb-e660-4965-db87-e81e556a57ea"
      },
      "execution_count": 19,
      "outputs": [
        {
          "output_type": "stream",
          "name": "stdout",
          "text": [
            "   raised_amount_usd  counts\n",
            "0             6000.0       2\n",
            "1            11600.0       2\n",
            "2            11800.0       2\n",
            "3            15282.0       2\n",
            "4            16500.0       2\n",
            "5            22500.0       2\n",
            "6            28000.0       2\n",
            "7            30653.0       2\n",
            "8            50206.0       2\n",
            "9            53000.0       2\n"
          ]
        }
      ]
    },
    {
      "cell_type": "markdown",
      "source": [
        "Which category of company attracted the most investments?"
      ],
      "metadata": {
        "id": "t2fctUs7bt1_"
      }
    },
    {
      "cell_type": "code",
      "source": [
        "q = 'select company_category_code , count(*) as counts from exhibitions group by raised_amount_usd  order by counts desc;'\n",
        "eid_counts = pd.read_sql(q, conn)\n",
        "print(eid_counts[:10])\n"
      ],
      "metadata": {
        "colab": {
          "base_uri": "https://localhost:8080/"
        },
        "id": "QQ2qjeq2bwcG",
        "outputId": "f46deae4-7784-49e8-e94a-3ee9f461946e"
      },
      "execution_count": 31,
      "outputs": [
        {
          "output_type": "stream",
          "name": "stdout",
          "text": [
            "  company_category_code  counts\n",
            "0             ecommerce   10144\n",
            "1                mobile    6044\n",
            "2             education    5138\n",
            "3           advertising    4674\n",
            "4              software    4158\n",
            "5             analytics    3827\n",
            "6                 other    3670\n",
            "7             nonprofit    3647\n",
            "8                mobile    3543\n",
            "9                design    3361\n"
          ]
        }
      ]
    },
    {
      "cell_type": "markdown",
      "source": [
        "Which investor contributed the most money (across all startups)?"
      ],
      "metadata": {
        "id": "KYqKpaGwkxIa"
      }
    },
    {
      "cell_type": "code",
      "source": [
        "q = 'select investor_name , count(*) as counts from exhibitions group by raised_amount_usd and company_name order by counts desc;'\n",
        "eid_counts = pd.read_sql(q, conn)\n",
        "print(eid_counts[:10])"
      ],
      "metadata": {
        "colab": {
          "base_uri": "https://localhost:8080/"
        },
        "id": "_8IoiI08kzyQ",
        "outputId": "cbd4273f-ffac-436d-ecdc-ed78b7c70ee9"
      },
      "execution_count": 33,
      "outputs": [
        {
          "output_type": "stream",
          "name": "stdout",
          "text": [
            "      investor_name  counts\n",
            "0      Zorik Gordon  152613\n",
            "1        Zach Klein     935\n",
            "2  Michael Broukhim      62\n"
          ]
        }
      ]
    },
    {
      "cell_type": "markdown",
      "source": [
        "Which investors contributed the most money per startup?"
      ],
      "metadata": {
        "id": "GDErO3CmmanB"
      }
    },
    {
      "cell_type": "code",
      "source": [
        "q = 'select investor_name,raised_amount_usd , count(*) as counts from exhibitions group by raised_amount_usd order by raised_amount_usd  desc;'\n",
        "eid_counts = pd.read_sql(q, conn)\n",
        "print(eid_counts[:10])"
      ],
      "metadata": {
        "colab": {
          "base_uri": "https://localhost:8080/"
        },
        "id": "_cTSB1vpmdgP",
        "outputId": "e61fbc99-2d28-479e-a51e-3053f007b41a"
      },
      "execution_count": 44,
      "outputs": [
        {
          "output_type": "stream",
          "name": "stdout",
          "text": [
            "                   investor_name  raised_amount_usd  counts\n",
            "0                    Time Warner       3.200000e+09      10\n",
            "1         Marlin Equity Partners       2.600000e+09       3\n",
            "2                  Goldman Sachs       1.500000e+09      19\n",
            "3      Oak Hill Capital Partners       1.050000e+09       6\n",
            "4                         Google       1.000000e+09       2\n",
            "5  Technology Crossover Ventures       9.500000e+08      30\n",
            "6           Eagle River Holdings       9.200000e+08      11\n",
            "7           Siemens PLM Software       7.500000e+08       2\n",
            "8                  Goldman Sachs       5.650000e+08       3\n",
            "9      U.S. Department of Energy       5.350000e+08       3\n"
          ]
        }
      ]
    },
    {
      "cell_type": "markdown",
      "source": [
        "Which funding round was the most popular? Which was the least popular?"
      ],
      "metadata": {
        "id": "3cBz3jDymvXP"
      }
    },
    {
      "cell_type": "code",
      "source": [
        "q = 'select funding_round_type , count(*) as counts from exhibitions group by funding_round_type order by counts desc;'\n",
        "eid_counts = pd.read_sql(q, conn)\n",
        "print(eid_counts[:10])\n"
      ],
      "metadata": {
        "colab": {
          "base_uri": "https://localhost:8080/"
        },
        "id": "fR_sSS6zmx_h",
        "outputId": "98895e82-1b05-4712-9270-e82a8a4448c0"
      },
      "execution_count": 55,
      "outputs": [
        {
          "output_type": "stream",
          "name": "stdout",
          "text": [
            "  funding_round_type  counts\n",
            "0           series-a   40851\n",
            "1          series-c+   31706\n",
            "2            venture   25947\n",
            "3           series-b   25680\n",
            "4              angel   25533\n",
            "5              other    2755\n",
            "6     private-equity    1033\n",
            "7           post-ipo      82\n",
            "8       crowdfunding      14\n",
            "9               None       9\n"
          ]
        }
      ]
    },
    {
      "cell_type": "code",
      "source": [
        "q = 'select funding_round_type , count(*) as counts from exhibitions group by funding_round_type order by counts asc;'\n",
        "eid_counts = pd.read_sql(q, conn)\n",
        "print(eid_counts[:10])"
      ],
      "metadata": {
        "colab": {
          "base_uri": "https://localhost:8080/"
        },
        "id": "TpW-aKE9oGHf",
        "outputId": "554733ea-630f-41e1-e346-a65724dc290b"
      },
      "execution_count": 56,
      "outputs": [
        {
          "output_type": "stream",
          "name": "stdout",
          "text": [
            "  funding_round_type  counts\n",
            "0               None       9\n",
            "1       crowdfunding      14\n",
            "2           post-ipo      82\n",
            "3     private-equity    1033\n",
            "4              other    2755\n",
            "5              angel   25533\n",
            "6           series-b   25680\n",
            "7            venture   25947\n",
            "8          series-c+   31706\n",
            "9           series-a   40851\n"
          ]
        }
      ]
    }
  ]
}